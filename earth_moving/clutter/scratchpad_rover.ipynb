{
 "cells": [
  {
   "cell_type": "code",
   "execution_count": 1,
   "metadata": {},
   "outputs": [],
   "source": [
    "%load_ext autoreload\n",
    "%autoreload 2\n",
    "\n",
    "# if you need to install Pybullet:\n",
    "#   pip3 install Pybullet   (python3)\n",
    "#   pip install PyBullet    (python2.x)\n",
    "\n",
    "# let's start with imports\n",
    "import numpy as np\n",
    "from numpy.random import seed\n",
    "from numpy.random import rand\n",
    "import pybullet as p\n",
    "\n",
    "from engine import *\n",
    "from matplotlib import pyplot as plt\n",
    "\n",
    "# seed random number generator.\n",
    "seed(1)\n",
    "\n",
    "%matplotlib inline"
   ]
  },
  {
   "cell_type": "code",
   "execution_count": 2,
   "metadata": {},
   "outputs": [],
   "source": [
    "# create a pybullet engine from the engine module\n",
    "engine = PyBulletEnvironment(gui=False)\n"
   ]
  },
  {
   "cell_type": "code",
   "execution_count": 3,
   "metadata": {},
   "outputs": [
    {
     "name": "stdout",
     "output_type": "stream",
     "text": [
      "startThreads creating 1 threads.\n",
      "starting thread 0\n",
      "started thread 0 \n",
      "argc=2\n",
      "argv[0] = --unused\n",
      "argv[1] = --start_demo_name=Physics Server\n",
      "ExampleBrowserThreadFunc started\n",
      "X11 functions dynamically loaded using dlopen/dlsym OK!\n",
      "X11 functions dynamically loaded using dlopen/dlsym OK!\n",
      "Creating context\n",
      "Created GL 3.3 context\n",
      "Direct GLX rendering context obtained\n",
      "Making context current\n",
      "GL_VENDOR=Intel\n",
      "GL_RENDERER=Mesa Intel(R) Graphics (RPL-P)\n",
      "GL_VERSION=4.6 (Core Profile) Mesa 24.0.9-0ubuntu0.2\n",
      "GL_SHADING_LANGUAGE_VERSION=4.60\n",
      "pthread_getconcurrency()=0\n",
      "Version = 4.6 (Core Profile) Mesa 24.0.9-0ubuntu0.2\n",
      "Vendor = Intel\n",
      "Renderer = Mesa Intel(R) Graphics (RPL-P)\n",
      "b3Printf: Selected demo: Physics Server\n",
      "startThreads creating 1 threads.\n",
      "starting thread 0\n",
      "started thread 0 \n",
      "MotionThreadFunc thread started\n",
      "ven = Intel\n",
      "Workaround for some crash in the Intel OpenGL driver on Linux/Ubuntu\n",
      "ven = Intel\n",
      "Workaround for some crash in the Intel OpenGL driver on Linux/Ubuntu\n"
     ]
    }
   ],
   "source": [
    "#load shovel\n",
    "startPos = [0,0,0]\n",
    "startOrientation = p.getQuaternionFromEuler([0,0,0])\n",
    "# robot_urdf = './urdf/shovel/shovelFlat.urdf'\n",
    "robot_urdf = './urdf/shovel/rover_with_shovel.urdf'\n",
    "\n",
    "# load the robot\n",
    "engine.open_environment(robot_urdf, startPos, startOrientation)"
   ]
  },
  {
   "cell_type": "code",
   "execution_count": 4,
   "metadata": {},
   "outputs": [],
   "source": [
    "# load pebbles\n",
    "\n",
    "# get shovel_link position\n",
    "shovelLinkState = p.getLinkState(engine.ID[1], 2)\n",
    "\n",
    "# admissible init positions\n",
    "# minpos = np.asarray(shovelLinkState[0]) \n",
    "minpos = np.array([0.2,-0.4,0])\n",
    "maxpos = np.array([0.7, 0.4, 0])\n",
    "# maxpos = np.asarray(shovelLinkState[0]) + 4*1e-1\n",
    "\n",
    "# number of pebbles\n",
    "pebbleNum = 500\n",
    "\n",
    "# scatter pebbles\n",
    "for i in range (pebbleNum):\n",
    "    \n",
    "    # generate init pos\n",
    "    startPos = minpos + (rand(3) * (maxpos - minpos))\n",
    "    startPos[-1] = 0.2\n",
    "    \n",
    "    # set orientation\n",
    "    startOrientation = p.getQuaternionFromEuler([0,0,0])\n",
    "    \n",
    "    # load pebble \n",
    "    engine.load_urdf('./urdf/pebbles/pebbles.urdf', startPos, startOrientation)    \n",
    "    \n",
    "# simulate\n",
    "engine.simulate(0.5)"
   ]
  },
  {
   "cell_type": "code",
   "execution_count": null,
   "metadata": {},
   "outputs": [
    {
     "name": "stdout",
     "output_type": "stream",
     "text": [
      "Initial position: (0.7, 0.0, 0.025)\n",
      "Waypoints:\n",
      "[0.7, 0.0, 0.025]\n",
      "[0.7263095911936983, 0.0004945994409903953, 0.025]\n",
      "[0.752582003218548, 0.001977698825084362, 0.025]\n",
      "[0.7787801094451171, 0.004447202323349608, 0.025]\n",
      "[0.8048668882485644, 0.007899620178501099, 0.025]\n",
      "[0.8308054753254228, 0.012330073636421024, 0.025]\n",
      "[0.8565592157880684, 0.017732301840527542, 0.025]\n",
      "[0.8820917159632551, 0.024098670679249756, 0.025]\n",
      "[0.9073668948215148, 0.031420183574105476, 0.025]\n",
      "[0.9323490349647499, 0.03968649419313752, 0.025]\n",
      "[0.9570028330999614, 0.04888592107174239, 0.025]\n",
      "[0.9812934499277894, 0.05900546412022967, 0.025]\n",
      "[1.0051865593753646, 0.07003082299478569, 0.025]\n",
      "[1.0286483971038973, 0.08194641730587882, 0.025]\n",
      "[1.0516458082224587, 0.09473540863555074, 0.025]\n",
      "[1.0741462941405246, 0.10837972433248022, 0.025]\n",
      "[1.0961180584930748, 0.122860083051192, 0.025]\n",
      "[1.117530052073348, 0.1381560219993211, 0.025]\n",
      "[1.1383520167097578, 0.1542459258544301, 0.025]\n",
      "[1.158554528024963, 0.17110705730951237, 0.025]\n"
     ]
    }
   ],
   "source": [
    "import time\n",
    "# Get joint indices for wheels\n",
    "left_wheel_joint = 0  # Index for left wheel joint\n",
    "right_wheel_joint = 1  # Index for right wheel joint\n",
    "\n",
    "robot = engine.ID[1]\n",
    "# Simulate\n",
    "try:\n",
    "    for _ in range(1000):  # Run for some steps\n",
    "        # Set wheel velocities\n",
    "        p.setJointMotorControl2(robot, 3, p.VELOCITY_CONTROL, targetVelocity=0, force=0)\n",
    "        p.setJointMotorControl2(robot, 2, p.VELOCITY_CONTROL, targetVelocity=.0, force=0)\n",
    "        p.setJointMotorControl2(robot, left_wheel_joint, p.VELOCITY_CONTROL, targetVelocity=-0.50, force=0.1)\n",
    "        p.setJointMotorControl2(robot, right_wheel_joint, p.VELOCITY_CONTROL, targetVelocity=-4.0, force=0.1)\n",
    "\n",
    "        p.stepSimulation()  # Advance simulation\n",
    "        time.sleep(1. / 240.)  # Sleep to match real-time\n",
    "\n",
    "# get the current end effector position\n",
    "endEffectorPos = p.getLinkState(engine.ID[1], 2)[0]\n",
    "pathLength = 0.5\n",
    "pathCurvature = 5\n",
    "Nwaypoints = 15\n",
    "\n",
    "# Disconnect\n",
    "# p.disconnect()"
   ]
  },
  {
   "cell_type": "code",
   "execution_count": 7,
   "metadata": {},
   "outputs": [],
   "source": [
    "img = engine.get_top_view()\n",
    "im = np.array(img[2])\n",
    "im = im.reshape((img[0],img[1], 4))\n",
    "plt.figure(figsize=(10,10))\n",
    "plt.imshow(im[:,:, :3])"
   ]
  }
 ],
 "metadata": {
  "kernelspec": {
   "display_name": "earth_moving",
   "language": "python",
   "name": "python3"
  },
  "language_info": {
   "codemirror_mode": {
    "name": "ipython",
    "version": 3
   },
   "file_extension": ".py",
   "mimetype": "text/x-python",
   "name": "python",
   "nbconvert_exporter": "python",
   "pygments_lexer": "ipython3",
   "version": "3.12.7"
  }
 },
 "nbformat": 4,
 "nbformat_minor": 2
}
