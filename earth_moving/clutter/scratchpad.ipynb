{
 "cells": [
  {
   "cell_type": "code",
   "execution_count": 1,
   "metadata": {},
   "outputs": [
    {
     "name": "stderr",
     "output_type": "stream",
     "text": [
      "pybullet build time: May 20 2024 15:34:46\n"
     ]
    }
   ],
   "source": [
    "# if you need to install Pybullet:\n",
    "#   pip3 install Pybullet   (python3)\n",
    "#   pip install PyBullet    (python2.x)\n",
    "\n",
    "# let's start with imports\n",
    "import numpy as np\n",
    "from numpy.random import seed\n",
    "from numpy.random import rand\n",
    "\n",
    "from engine import *\n",
    "\n",
    "# seed random number generator\n",
    "seed(1)"
   ]
  },
  {
   "cell_type": "code",
   "execution_count": 2,
   "metadata": {},
   "outputs": [],
   "source": [
    "# create a pybullet engine from the engine module\n",
    "engine = PyBulletEnvironment()\n"
   ]
  },
  {
   "cell_type": "code",
   "execution_count": 3,
   "metadata": {},
   "outputs": [
    {
     "name": "stdout",
     "output_type": "stream",
     "text": [
      "startThreads creating 1 threads.\n",
      "starting thread 0\n",
      "started thread 0 \n",
      "argc=2\n",
      "argv[0] = --unused\n",
      "argv[1] = --start_demo_name=Physics Server\n",
      "ExampleBrowserThreadFunc started\n",
      "X11 functions dynamically loaded using dlopen/dlsym OK!\n",
      "X11 functions dynamically loaded using dlopen/dlsym OK!\n",
      "Creating context\n",
      "Created GL 3.3 context\n",
      "Direct GLX rendering context obtained\n",
      "Making context current\n",
      "GL_VENDOR=Intel\n",
      "GL_RENDERER=Mesa Intel(R) Graphics (RPL-P)\n",
      "GL_VERSION=4.6 (Core Profile) Mesa 24.0.9-0ubuntu0.1\n",
      "GL_SHADING_LANGUAGE_VERSION=4.60\n",
      "pthread_getconcurrency()=0\n",
      "Version = 4.6 (Core Profile) Mesa 24.0.9-0ubuntu0.1\n",
      "Vendor = Intel\n",
      "Renderer = Mesa Intel(R) Graphics (RPL-P)\n",
      "b3Printf: Selected demo: Physics Server\n",
      "startThreads creating 1 threads.\n",
      "starting thread 0\n",
      "started thread 0 \n",
      "MotionThreadFunc thread started\n",
      "ven = Intel\n",
      "Workaround for some crash in the Intel OpenGL driver on Linux/Ubuntu\n",
      "ven = Intel\n",
      "Workaround for some crash in the Intel OpenGL driver on Linux/Ubuntu\n"
     ]
    }
   ],
   "source": [
    "#load shovel\n",
    "startPos = [0,0,0]\n",
    "startOrientation = p.getQuaternionFromEuler([0,0,0])\n",
    "robot_urdf = './urdf/shovel/shovelFlat.urdf'\n",
    "\n",
    "# load the robot\n",
    "engine.open_environment(robot_urdf, startPos, startOrientation)"
   ]
  },
  {
   "cell_type": "code",
   "execution_count": 4,
   "metadata": {},
   "outputs": [],
   "source": [
    "# load pebbles\n",
    "\n",
    "# get shovel_link position\n",
    "shovelLinkState = p.getLinkState(engine.ID[1], 2)\n",
    "\n",
    "# admissible init positions\n",
    "minpos = np.asarray(shovelLinkState[0]) - 5*1e-1\n",
    "maxpos = np.asarray(shovelLinkState[0]) + 5*1e-1\n",
    "\n",
    "# number of pebbles\n",
    "pebbleNum = 100\n",
    "\n",
    "# store pebbles IDs\n",
    "pebbleId = np.zeros(pebbleNum)\n",
    "\n",
    "# scatter pebbles\n",
    "for i in range (pebbleNum):\n",
    "    \n",
    "    # generate init pos\n",
    "    startPos = minpos + (rand(3) * (maxpos - minpos))\n",
    "    startPos[-1] = 0.2\n",
    "    \n",
    "    # set orientation\n",
    "    startOrientation = p.getQuaternionFromEuler([0,0,0])\n",
    "    \n",
    "    # load pebble \n",
    "    engine.load_urdf('./urdf/pebbles/pebbles.urdf', startPos, startOrientation)    \n",
    "    \n",
    "# simulate\n",
    "engine.simulate(0.5)"
   ]
  },
  {
   "cell_type": "code",
   "execution_count": 5,
   "metadata": {},
   "outputs": [
    {
     "name": "stdout",
     "output_type": "stream",
     "text": [
      "Initial position: (0.7000007617261489, -1.5542317347589836e-08, 0.025)\n",
      "Waypoints:\n",
      "[0.7000007617261492, -1.5542317655103943e-08, 0.025]\n",
      "[0.8111027281156419, 0.0012345015544896754, 0.025]\n",
      "[0.9221498315943369, 0.004937443231927574, 0.025]\n",
      "[1.033087236343114, 0.011106980952070522, 0.025]\n",
      "[1.1438601607128391, 0.019740068155003065, 0.025]\n",
      "[1.2544139042759144, 0.03083244176322264, 0.025]\n",
      "[1.3646938748377195, 0.04437862428678585, 0.025]\n",
      "[1.474645615394618, 0.06037192652812262, 0.025]\n",
      "[1.5842148310251947, 0.0788044508852126, 0.025]\n",
      "[1.6933474157014552, 0.09966709525147444, 0.025]\n"
     ]
    }
   ],
   "source": [
    "# here we control the shovel to move to a target position and orientation using velocity control\n",
    "# the loop controls the velocity of the joint until the target position is reached\n",
    "\n",
    "# in the next params we define the control mode, the max force on the joint, the target position and velocity\n",
    "\n",
    "# get the current end effector position\n",
    "endEffectorPos = p.getLinkState(engine.ID[1], 2)[0]\n",
    "pathLength = 1\n",
    "pathCurvature = 5\n",
    "Nwaypoints = 10\n",
    "\n",
    "# compute the waypoints and print them\n",
    "waypoints = engine.get_waypoints(endEffectorPos, pathLength, pathCurvature, Nwaypoints)\n",
    "engine.draw_path(waypoints)\n",
    "print('Initial position: ' + str(endEffectorPos))\n",
    "print('Waypoints:\\n' + '\\n'.join(str(waypoint) for waypoint in waypoints))\n"
   ]
  },
  {
   "cell_type": "code",
   "execution_count": 6,
   "metadata": {},
   "outputs": [
    {
     "name": "stdout",
     "output_type": "stream",
     "text": [
      "End Effector position: (0.7002300532441442, 4.5577414414869406e-05, 0.025)\n",
      "End Effector position: (0.712886879689764, 0.0001873173420913575, 0.025)\n",
      "End Effector position: (0.7591558822604128, 0.00045095816060613093, 0.025)\n",
      "End Effector position: (0.8523251487127668, 0.0009389337082080565, 0.025)\n",
      "End Effector position: (0.9948194037864441, 0.0025907491109340673, 0.025)\n",
      "End Effector position: (1.1775951504666906, 0.007243030679737801, 0.025)\n",
      "End Effector position: (1.3829354519526083, 0.01652239922208628, 0.025)\n",
      "End Effector position: (1.588608412556261, 0.03136159818896202, 0.025)\n",
      "End Effector position: (1.7726672140542, 0.05181928074073333, 0.025)\n",
      "End Effector position: (1.9179475995629502, 0.07633100223625908, 0.025)\n"
     ]
    },
    {
     "ename": "",
     "evalue": "",
     "output_type": "error",
     "traceback": [
      "\u001b[1;31mThe Kernel crashed while executing code in the current cell or a previous cell. \n",
      "\u001b[1;31mPlease review the code in the cell(s) to identify a possible cause of the failure. \n",
      "\u001b[1;31mClick <a href='https://aka.ms/vscodeJupyterKernelCrash'>here</a> for more info. \n",
      "\u001b[1;31mView Jupyter <a href='command:jupyter.viewOutput'>log</a> for further details."
     ]
    }
   ],
   "source": [
    "# here we control\n",
    "\n",
    "# target velocities - one for each joint\n",
    "# this is only used in velocity control. In position control is a no-care parameter\n",
    "targetVel = [0.1, 0.2, 0.2]\n",
    "\n",
    "# control mode\n",
    "if 0:\n",
    "    # # velocity control\n",
    "    mode = p.VELOCITY_CONTROL\n",
    "    # max force on joint\n",
    "    maxForce = 1e3\n",
    "else:\n",
    "    # position control\n",
    "    mode = p.POSITION_CONTROL\n",
    "    # max force on joint\n",
    "    maxForce = 1e3\n",
    "\n",
    "engine.control_waypoints(waypoints, targetVel, control_mode=mode, max_force=maxForce)"
   ]
  }
 ],
 "metadata": {
  "kernelspec": {
   "display_name": "earthmov",
   "language": "python",
   "name": "python3"
  },
  "language_info": {
   "codemirror_mode": {
    "name": "ipython",
    "version": 3
   },
   "file_extension": ".py",
   "mimetype": "text/x-python",
   "name": "python",
   "nbconvert_exporter": "python",
   "pygments_lexer": "ipython3",
   "version": "3.12.3"
  }
 },
 "nbformat": 4,
 "nbformat_minor": 2
}
