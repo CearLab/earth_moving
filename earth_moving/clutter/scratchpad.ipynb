{
 "cells": [
  {
   "cell_type": "code",
   "execution_count": 1,
   "metadata": {},
   "outputs": [
    {
     "name": "stderr",
     "output_type": "stream",
     "text": [
      "pybullet build time: Nov 28 2023 23:51:11\n"
     ]
    }
   ],
   "source": [
    "# if you need to install Pybullet:\n",
    "#   pip3 install Pybullet   (python3)\n",
    "#   pip install PyBullet    (python2.x)\n",
    "\n",
    "# let's start with imports\n",
    "import numpy as np\n",
    "from numpy.random import seed\n",
    "from numpy.random import rand\n",
    "\n",
    "from engine import *\n",
    "\n",
    "# seed random number generator\n",
    "seed(1)"
   ]
  },
  {
   "cell_type": "code",
   "execution_count": 2,
   "metadata": {},
   "outputs": [],
   "source": [
    "# create a pybullet engine from the engine module\n",
    "engine = PyBulletEnvironment()\n"
   ]
  },
  {
   "cell_type": "code",
   "execution_count": 3,
   "metadata": {},
   "outputs": [
    {
     "name": "stderr",
     "output_type": "stream",
     "text": [
      "MESA: warning: Driver does not support the 0xa7a0 PCI ID.\n",
      "libGL error: failed to create dri screen\n",
      "libGL error: failed to load driver: iris\n",
      "MESA: warning: Driver does not support the 0xa7a0 PCI ID.\n",
      "libGL error: failed to create dri screen\n",
      "libGL error: failed to load driver: iris\n"
     ]
    },
    {
     "name": "stdout",
     "output_type": "stream",
     "text": [
      "startThreads creating 1 threads.\n",
      "starting thread 0\n",
      "started thread 0 \n",
      "argc=2\n",
      "argv[0] = --unused\n",
      "argv[1] = --start_demo_name=Physics Server\n",
      "ExampleBrowserThreadFunc started\n",
      "X11 functions dynamically loaded using dlopen/dlsym OK!\n",
      "X11 functions dynamically loaded using dlopen/dlsym OK!\n",
      "Creating context\n",
      "Created GL 3.3 context\n",
      "Direct GLX rendering context obtained\n",
      "Making context current\n",
      "GL_VENDOR=Mesa/X.org\n",
      "GL_RENDERER=llvmpipe (LLVM 12.0.0, 256 bits)\n",
      "GL_VERSION=4.5 (Core Profile) Mesa 21.2.6\n",
      "GL_SHADING_LANGUAGE_VERSION=4.50\n",
      "pthread_getconcurrency()=0\n",
      "Version = 4.5 (Core Profile) Mesa 21.2.6\n",
      "Vendor = Mesa/X.org\n",
      "Renderer = llvmpipe (LLVM 12.0.0, 256 bits)\n",
      "b3Printf: Selected demo: Physics Server\n",
      "startThreads creating 1 threads.\n",
      "starting thread 0\n",
      "started thread 0 \n",
      "MotionThreadFunc thread started\n",
      "ven = Mesa/X.org\n",
      "ven = Mesa/X.org\n"
     ]
    }
   ],
   "source": [
    "#load shovel\n",
    "startPos = [0,0,0]\n",
    "startOrientation = p.getQuaternionFromEuler([0,0,0])\n",
    "robot_urdf = './urdf/shovel/shovelFlat.urdf'\n",
    "\n",
    "# load the robot\n",
    "engine.open_environment(robot_urdf, startPos, startOrientation)"
   ]
  },
  {
   "cell_type": "code",
   "execution_count": 4,
   "metadata": {},
   "outputs": [],
   "source": [
    "# load pebbles\n",
    "\n",
    "# get shovel_link position\n",
    "shovelLinkState = p.getLinkState(engine.ID[1], 2)\n",
    "\n",
    "# admissible init positions\n",
    "minpos = np.asarray(shovelLinkState[0]) - 5*1e-1\n",
    "maxpos = np.asarray(shovelLinkState[0]) + 5*1e-1\n",
    "\n",
    "# number of pebbles\n",
    "pebbleNum = 100\n",
    "\n",
    "# scatter pebbles\n",
    "for i in range (pebbleNum):\n",
    "    \n",
    "    # generate init pos\n",
    "    startPos = minpos + (rand(3) * (maxpos - minpos))\n",
    "    startPos[-1] = 0.2\n",
    "    \n",
    "    # set orientation\n",
    "    startOrientation = p.getQuaternionFromEuler([0,0,0])\n",
    "    \n",
    "    # load pebble \n",
    "    engine.load_urdf('./urdf/pebbles/pebbles.urdf', startPos, startOrientation)    \n",
    "    \n",
    "# simulate\n",
    "engine.simulate(0.5)"
   ]
  },
  {
   "cell_type": "code",
   "execution_count": 5,
   "metadata": {},
   "outputs": [
    {
     "name": "stdout",
     "output_type": "stream",
     "text": [
      "Initial position: (0.7000007617261489, -1.5542317347589856e-08, 0.025)\n",
      "Waypoints:\n",
      "[0.7000007617261492, -1.5542317655103943e-08, 0.025]\n",
      "[0.7526313687199192, 0.00027699021015425984, 0.025]\n",
      "[0.805256144121332, 0.0011079767746959845, 0.025]\n",
      "[0.8578692569841838, 0.002492852076082741, 0.025]\n",
      "[0.9104648776545063, 0.004431462666945052, 0.025]\n",
      "[0.9630371784165096, 0.006923593744769363, 0.025]\n",
      "[1.0155803341382996, 0.009968969175696785, 0.025]\n",
      "[1.0680885229173214, 0.013567251525123503, 0.025]\n",
      "[1.1205559267254372, 0.017718042095084208, 0.025]\n",
      "[1.1729767320535787, 0.02242088096843453, 0.025]\n",
      "[1.2253451305558942, 0.027675247059804065, 0.025]\n",
      "[1.277655319693333, 0.03348055817334128, 0.025]\n",
      "[1.3299015033765724, 0.0398361710672166, 0.025]\n",
      "[1.3820778926082422, 0.04674138152489693, 0.025]\n",
      "[1.4341787061243587, 0.05419542443317393, 0.025]\n",
      "[1.4861981710349008, 0.0621974738669433, 0.025]\n",
      "[1.5381305234634597, 0.07074664318071378, 0.025]\n",
      "[1.589970009185891, 0.07984198510685481, 0.025]\n",
      "[1.6417108842678934, 0.08948249186055168, 0.025]\n",
      "[1.6933474157014552, 0.09966709525147444, 0.025]\n"
     ]
    }
   ],
   "source": [
    "# here we control the shovel to move to a target position and orientation using velocity control\n",
    "# the loop controls the velocity of the joint until the target position is reached\n",
    "\n",
    "# in the next params we define the control mode, the max force on the joint, the target position and velocity\n",
    "\n",
    "# get the current end effector position\n",
    "endEffectorPos = p.getLinkState(engine.ID[1], 2)[0]\n",
    "pathLength = 1\n",
    "pathCurvature = 5\n",
    "Nwaypoints = 20\n",
    "\n",
    "# compute the waypoints and print them\n",
    "waypoints = engine.get_waypoints(endEffectorPos, pathLength, pathCurvature, Nwaypoints)\n",
    "engine.draw_path(waypoints)\n",
    "print('Initial position: ' + str(endEffectorPos))\n",
    "print('Waypoints:\\n' + '\\n'.join(str(waypoint) for waypoint in waypoints))\n"
   ]
  },
  {
   "cell_type": "code",
   "execution_count": 6,
   "metadata": {},
   "outputs": [
    {
     "name": "stdout",
     "output_type": "stream",
     "text": [
      "End Effector position: (0.7000421276472453, 4.135635069107516e-05, 0.025)\n",
      "End Effector position: (0.7520860309003139, 0.00010460381995526752, 0.025)\n",
      "End Effector position: (0.8048493978105661, 0.0002570869853864774, 0.025)\n",
      "End Effector position: (0.8575354153814209, 0.001551975973278948, 0.025)\n",
      "End Effector position: (0.9101308116789788, 0.0034832896710866304, 0.025)\n",
      "End Effector position: (0.9627018799211885, 0.005972142539648926, 0.025)\n",
      "End Effector position: (1.015243862009997, 0.009012497468418847, 0.025)\n",
      "End Effector position: (1.0677506000053054, 0.012620110658356467, 0.025)\n",
      "End Effector position: (1.1202163186842626, 0.016751654110271286, 0.025)\n",
      "End Effector position: (1.1726350014098124, 0.021447647213628174, 0.025)\n",
      "End Effector position: (1.2250015756253008, 0.026707999016387658, 0.025)\n",
      "End Effector position: (1.2773095079051224, 0.03250410975002353, 0.025)\n",
      "End Effector position: (1.3295532831887618, 0.03885503461787124, 0.025)\n",
      "End Effector position: (1.3817271485276654, 0.0457462601587586, 0.025)\n",
      "End Effector position: (1.4338253418477902, 0.05319586829744771, 0.025)\n",
      "End Effector position: (1.4858422871693113, 0.061199849982793715, 0.025)\n",
      "End Effector position: (1.5377721165903262, 0.06973477114736354, 0.025)\n",
      "End Effector position: (1.5896095253954905, 0.07881914297377929, 0.025)\n",
      "End Effector position: (1.6413506901628128, 0.08845042746450402, 0.025)\n",
      "End Effector position: (1.6929847797959843, 0.09768461001961357, 0.025)\n"
     ]
    },
    {
     "ename": "",
     "evalue": "",
     "output_type": "error",
     "traceback": [
      "\u001b[1;31mThe Kernel crashed while executing code in the current cell or a previous cell. \n",
      "\u001b[1;31mPlease review the code in the cell(s) to identify a possible cause of the failure. \n",
      "\u001b[1;31mClick <a href='https://aka.ms/vscodeJupyterKernelCrash'>here</a> for more info. \n",
      "\u001b[1;31mView Jupyter <a href='command:jupyter.viewOutput'>log</a> for further details."
     ]
    }
   ],
   "source": [
    "# control mode    \n",
    "# mode = p.VELOCITY_CONTROL\n",
    "mode = p.POSITION_CONTROL  \n",
    "\n",
    "# set params\n",
    "engine.control_threshold = 1e-2\n",
    "engine.Target_velocities = [1e-3, 1e-2, 1e-2]  \n",
    "engine.maxForce = [1e3, 1e3, 1e3]\n",
    "engine.Pos_gains = [1e-1, 1e-1, 1e-1]\n",
    "engine.Vel_gains = [1e-1, 1e-1, 1e-1]\n",
    "\n",
    "engine.control_waypoints(waypoints, control_mode=mode)"
   ]
  }
 ],
 "metadata": {
  "kernelspec": {
   "display_name": "Python 3",
   "language": "python",
   "name": "python3"
  },
  "language_info": {
   "codemirror_mode": {
    "name": "ipython",
    "version": 3
   },
   "file_extension": ".py",
   "mimetype": "text/x-python",
   "name": "python",
   "nbconvert_exporter": "python",
   "pygments_lexer": "ipython3",
   "version": "3.8.10"
  }
 },
 "nbformat": 4,
 "nbformat_minor": 2
}
