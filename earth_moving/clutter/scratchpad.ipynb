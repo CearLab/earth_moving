{
 "cells": [
  {
   "cell_type": "code",
   "execution_count": 1,
   "metadata": {},
   "outputs": [
    {
     "name": "stderr",
     "output_type": "stream",
     "text": [
      "pybullet build time: Nov 28 2023 23:51:11\n"
     ]
    }
   ],
   "source": [
    "# if you need to install Pybullet:\n",
    "#   pip3 install Pybullet   (python3)\n",
    "#   pip install PyBullet    (python2.x)\n",
    "\n",
    "# let's start with imports\n",
    "import numpy as np\n",
    "from numpy.random import seed\n",
    "from numpy.random import rand\n",
    "\n",
    "from engine import *\n",
    "\n",
    "# seed random number generator\n",
    "seed(1)"
   ]
  },
  {
   "cell_type": "code",
   "execution_count": 2,
   "metadata": {},
   "outputs": [],
   "source": [
    "# create a pybullet engine from the engine module\n",
    "engine = PyBulletEnvironment()\n"
   ]
  },
  {
   "cell_type": "code",
   "execution_count": 3,
   "metadata": {},
   "outputs": [
    {
     "name": "stdout",
     "output_type": "stream",
     "text": [
      "startThreads creating 1 threads.\n",
      "starting thread 0\n"
     ]
    },
    {
     "name": "stderr",
     "output_type": "stream",
     "text": [
      "MESA: warning: Driver does not support the 0xa7a0 PCI ID.\n",
      "libGL error: failed to create dri screen\n",
      "libGL error: failed to load driver: iris\n",
      "MESA: warning: Driver does not support the 0xa7a0 PCI ID.\n",
      "libGL error: failed to create dri screen\n",
      "libGL error: failed to load driver: iris\n"
     ]
    },
    {
     "name": "stdout",
     "output_type": "stream",
     "text": [
      "started thread 0 \n",
      "argc=2\n",
      "argv[0] = --unused\n",
      "argv[1] = --start_demo_name=Physics Server\n",
      "ExampleBrowserThreadFunc started\n",
      "X11 functions dynamically loaded using dlopen/dlsym OK!\n",
      "X11 functions dynamically loaded using dlopen/dlsym OK!\n",
      "Creating context\n",
      "Created GL 3.3 context\n",
      "Direct GLX rendering context obtained\n",
      "Making context current\n",
      "GL_VENDOR=Mesa/X.org\n",
      "GL_RENDERER=llvmpipe (LLVM 12.0.0, 256 bits)\n",
      "GL_VERSION=4.5 (Core Profile) Mesa 21.2.6\n",
      "GL_SHADING_LANGUAGE_VERSION=4.50\n",
      "pthread_getconcurrency()=0\n",
      "Version = 4.5 (Core Profile) Mesa 21.2.6\n",
      "Vendor = Mesa/X.org\n",
      "Renderer = llvmpipe (LLVM 12.0.0, 256 bits)\n",
      "b3Printf: Selected demo: Physics Server\n",
      "startThreads creating 1 threads.\n",
      "starting thread 0\n",
      "started thread 0 \n",
      "MotionThreadFunc thread started\n",
      "ven = Mesa/X.org\n",
      "ven = Mesa/X.org\n"
     ]
    }
   ],
   "source": [
    "#load shovel\n",
    "startPos = [0,0,0]\n",
    "startOrientation = p.getQuaternionFromEuler([0,0,0])\n",
    "robot_urdf = './urdf/shovel/shovelFlat.urdf'\n",
    "\n",
    "# load the robot\n",
    "engine.open_environment(robot_urdf, startPos, startOrientation)"
   ]
  },
  {
   "cell_type": "code",
   "execution_count": 4,
   "metadata": {},
   "outputs": [],
   "source": [
    "# load pebbles\n",
    "\n",
    "# get shovel_link position\n",
    "shovelLinkState = p.getLinkState(engine.ID[1], 2)\n",
    "\n",
    "# admissible init positions\n",
    "minpos = np.asarray(shovelLinkState[0]) - 5*1e-1\n",
    "maxpos = np.asarray(shovelLinkState[0]) + 5*1e-1\n",
    "\n",
    "# number of pebbles\n",
    "pebbleNum = 100\n",
    "\n",
    "# store pebbles IDs\n",
    "pebbleId = np.zeros(pebbleNum)\n",
    "\n",
    "# scatter pebbles\n",
    "for i in range (pebbleNum):\n",
    "    \n",
    "    # generate init pos\n",
    "    startPos = minpos + (rand(3) * (maxpos - minpos))\n",
    "    startPos[-1] = 0.2\n",
    "    \n",
    "    # set orientation\n",
    "    startOrientation = p.getQuaternionFromEuler([0,0,0])\n",
    "    \n",
    "    # load pebble \n",
    "    engine.load_urdf('./urdf/pebbles/pebbles.urdf', startPos, startOrientation)    \n",
    "    \n",
    "# simulate\n",
    "engine.simulate(0.5)"
   ]
  },
  {
   "cell_type": "code",
   "execution_count": 5,
   "metadata": {},
   "outputs": [
    {
     "name": "stdout",
     "output_type": "stream",
     "text": [
      "Initial position: (0.7000007617261489, -1.5542317347589856e-08, 0.025)\n",
      "Waypoints:\n",
      "[0.7000007617261492, -1.5542317655103943e-08, 0.025]\n",
      "[0.8111027281156419, 0.0012345015544896754, 0.025]\n",
      "[0.9221498315943369, 0.004937443231927574, 0.025]\n",
      "[1.033087236343114, 0.011106980952070522, 0.025]\n",
      "[1.1438601607128391, 0.019740068155003065, 0.025]\n",
      "[1.2544139042759144, 0.03083244176322264, 0.025]\n",
      "[1.3646938748377195, 0.04437862428678585, 0.025]\n",
      "[1.474645615394618, 0.06037192652812262, 0.025]\n",
      "[1.5842148310251947, 0.0788044508852126, 0.025]\n",
      "[1.6933474157014552, 0.09966709525147444, 0.025]\n"
     ]
    }
   ],
   "source": [
    "# here we control the shovel to move to a target position and orientation using velocity control\n",
    "# the loop controls the velocity of the joint until the target position is reached\n",
    "\n",
    "# in the next params we define the control mode, the max force on the joint, the target position and velocity\n",
    "\n",
    "# get the current end effector position\n",
    "endEffectorPos = p.getLinkState(engine.ID[1], 2)[0]\n",
    "pathLength = 1\n",
    "pathCurvature = 5\n",
    "Nwaypoints = 10\n",
    "\n",
    "# compute the waypoints and print them\n",
    "waypoints = engine.get_waypoints(endEffectorPos, pathLength, pathCurvature, Nwaypoints)\n",
    "engine.draw_path(waypoints)\n",
    "print('Initial position: ' + str(endEffectorPos))\n",
    "print('Waypoints:\\n' + '\\n'.join(str(waypoint) for waypoint in waypoints))\n"
   ]
  },
  {
   "cell_type": "code",
   "execution_count": 6,
   "metadata": {},
   "outputs": [
    {
     "name": "stdout",
     "output_type": "stream",
     "text": [
      "End Effector position: (0.7000009814138433, -3.093453793110877e-08, 0.025)\n",
      "End Effector position: (0.8100009841062297, -3.1304953661041985e-08, 0.025)\n",
      "End Effector position: (0.9299998899284274, 2.5546140995069726e-06, 0.025)\n",
      "End Effector position: (1.0399173225050138, 0.0040060875063300475, 0.025)\n",
      "End Effector position: (1.1492663232341542, 0.011993136291098726, 0.025)\n",
      "End Effector position: (1.2571429681500657, 0.023690386678143865, 0.025)\n",
      "End Effector position: (1.37291821834432, 0.03695258892745421, 0.025)\n",
      "End Effector position: (1.4748470412795662, 0.052908074886885995, 0.025)\n",
      "End Effector position: (1.590963978204032, 0.07035927266151319, 0.025)\n",
      "End Effector position: (1.6914149572738935, 0.09086416268477834, 0.025)\n"
     ]
    },
    {
     "ename": "",
     "evalue": "",
     "output_type": "error",
     "traceback": [
      "\u001b[1;31mThe Kernel crashed while executing code in the current cell or a previous cell. \n",
      "\u001b[1;31mPlease review the code in the cell(s) to identify a possible cause of the failure. \n",
      "\u001b[1;31mClick <a href='https://aka.ms/vscodeJupyterKernelCrash'>here</a> for more info. \n",
      "\u001b[1;31mView Jupyter <a href='command:jupyter.viewOutput'>log</a> for further details."
     ]
    }
   ],
   "source": [
    "# here we control\n",
    "\n",
    "# target velocities - one for each joint\n",
    "# this is only used in velocity control. In position control is a no-care parameter\n",
    "targetVel = [0.1, 0.2, 0.2]\n",
    "\n",
    "# control mode\n",
    "if 1:\n",
    "    # # velocity control\n",
    "    mode = p.VELOCITY_CONTROL\n",
    "    # max force on joint\n",
    "    maxForce = 1e3\n",
    "else:\n",
    "    # position control\n",
    "    mode = p.POSITION_CONTROL\n",
    "    # max force on joint\n",
    "    maxForce = 1e3\n",
    "\n",
    "engine.control_waypoints(waypoints, targetVel, control_mode=mode, max_force=maxForce)"
   ]
  }
 ],
 "metadata": {
  "kernelspec": {
   "display_name": "Python 3",
   "language": "python",
   "name": "python3"
  },
  "language_info": {
   "codemirror_mode": {
    "name": "ipython",
    "version": 3
   },
   "file_extension": ".py",
   "mimetype": "text/x-python",
   "name": "python",
   "nbconvert_exporter": "python",
   "pygments_lexer": "ipython3",
   "version": "3.8.10"
  }
 },
 "nbformat": 4,
 "nbformat_minor": 2
}
