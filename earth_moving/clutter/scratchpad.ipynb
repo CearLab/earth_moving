{
 "cells": [
  {
   "cell_type": "code",
   "execution_count": 1,
   "metadata": {},
   "outputs": [
    {
     "name": "stderr",
     "output_type": "stream",
     "text": [
      "pybullet build time: Nov 28 2023 23:51:11\n"
     ]
    }
   ],
   "source": [
    "# if you need to install Pybullet:\n",
    "#   pip3 install Pybullet   (python3)\n",
    "#   pip install PyBullet    (python2.x)\n",
    "\n",
    "# let's start with imports\n",
    "import numpy as np\n",
    "from numpy.random import seed\n",
    "from numpy.random import rand\n",
    "\n",
    "from engine import *\n",
    "\n",
    "# seed random number generator\n",
    "seed(1)"
   ]
  },
  {
   "cell_type": "code",
   "execution_count": 2,
   "metadata": {},
   "outputs": [],
   "source": [
    "# create a pybullet engine from the engine module\n",
    "engine = PyBulletEnvironment()\n"
   ]
  },
  {
   "cell_type": "code",
   "execution_count": 3,
   "metadata": {},
   "outputs": [
    {
     "name": "stderr",
     "output_type": "stream",
     "text": [
      "MESA: warning: Driver does not support the 0xa7a0 PCI ID."
     ]
    },
    {
     "name": "stdout",
     "output_type": "stream",
     "text": [
      "startThreads creating 1 threads.\n",
      "starting thread 0\n"
     ]
    },
    {
     "name": "stderr",
     "output_type": "stream",
     "text": [
      "\n",
      "libGL error: failed to create dri screen\n",
      "libGL error: failed to load driver: iris\n",
      "MESA: warning: Driver does not support the 0xa7a0 PCI ID.\n",
      "libGL error: failed to create dri screen\n",
      "libGL error: failed to load driver: iris\n"
     ]
    },
    {
     "name": "stdout",
     "output_type": "stream",
     "text": [
      "started thread 0 \n",
      "argc=2\n",
      "argv[0] = --unused\n",
      "argv[1] = --start_demo_name=Physics Server\n",
      "ExampleBrowserThreadFunc started\n",
      "X11 functions dynamically loaded using dlopen/dlsym OK!\n",
      "X11 functions dynamically loaded using dlopen/dlsym OK!\n",
      "Creating context\n",
      "Created GL 3.3 context\n",
      "Direct GLX rendering context obtained\n",
      "Making context current\n",
      "GL_VENDOR=Mesa/X.org\n",
      "GL_RENDERER=llvmpipe (LLVM 12.0.0, 256 bits)\n",
      "GL_VERSION=4.5 (Core Profile) Mesa 21.2.6\n",
      "GL_SHADING_LANGUAGE_VERSION=4.50\n",
      "pthread_getconcurrency()=0\n",
      "Version = 4.5 (Core Profile) Mesa 21.2.6\n",
      "Vendor = Mesa/X.org\n",
      "Renderer = llvmpipe (LLVM 12.0.0, 256 bits)\n",
      "b3Printf: Selected demo: Physics Server\n",
      "startThreads creating 1 threads.\n",
      "starting thread 0\n",
      "started thread 0 \n",
      "MotionThreadFunc thread started\n",
      "ven = Mesa/X.org\n",
      "ven = Mesa/X.org\n"
     ]
    }
   ],
   "source": [
    "#load shovel\n",
    "startPos = [0,0,0]\n",
    "startOrientation = p.getQuaternionFromEuler([0,0,0])\n",
    "robot_urdf = './urdf/shovel/shovelFlat.urdf'\n",
    "\n",
    "# load the robot\n",
    "engine.open_environment(robot_urdf, startPos, startOrientation)"
   ]
  },
  {
   "cell_type": "code",
   "execution_count": 4,
   "metadata": {},
   "outputs": [],
   "source": [
    "# load pebbles\n",
    "\n",
    "# get shovel_link position\n",
    "shovelLinkState = p.getLinkState(engine.ID[1], 0)\n",
    "\n",
    "# admissible init positions\n",
    "minpos = np.asarray(shovelLinkState[0]) - 3*1e-1\n",
    "maxpos = np.asarray(shovelLinkState[0]) + 3*1e-1\n",
    "\n",
    "# number of pebbles\n",
    "pebbleNum = 50\n",
    "\n",
    "# store pebbles IDs\n",
    "pebbleId = np.zeros(pebbleNum)\n",
    "\n",
    "# scatter pebbles\n",
    "for i in range (pebbleNum):\n",
    "    \n",
    "    # generate init pos\n",
    "    startPos = minpos + (rand(3) * (maxpos - minpos))\n",
    "    startPos[-1] = 0.2\n",
    "    \n",
    "    # set orientation\n",
    "    startOrientation = p.getQuaternionFromEuler([0,0,0])\n",
    "    \n",
    "    # load pebble \n",
    "    engine.load_urdf('./urdf/pebbles/pebbles.urdf', startPos, startOrientation)    \n",
    "    \n",
    "# simulate\n",
    "engine.simulate(2)"
   ]
  },
  {
   "cell_type": "code",
   "execution_count": 5,
   "metadata": {},
   "outputs": [],
   "source": [
    "# here we control the shovel to move to a target position and orientation using velocity control\n",
    "# the outer loop alternates between controlling the position and the orientation\n",
    "# the inner loop controls the velocity of the joint until the target position is reached\n",
    "\n",
    "# in the next params we define the control mode, the max force on the joint, the target position and velocity\n",
    "\n",
    "# max force on joint\n",
    "maxForce = 1e3\n",
    "\n",
    "# target pos and vel - prismatic\n",
    "pos_std = 0.3\n",
    "targetPosMean = np.mean(p.getJointInfo(engine.ID[1], 0)[8:10])\n",
    "targetPosStd =  np.min(np.append(np.array(np.abs(p.getJointInfo(engine.ID[1], 0)[8:10])),pos_std))\n",
    "targetVelPos = 0.2\n",
    "\n",
    "# target pos and vel - revolute\n",
    "ang_std = 0.5\n",
    "targetAngMean = np.mean(p.getJointInfo(engine.ID[1], 1)[8:10])\n",
    "targetAngStd =  np.min(np.append(np.array(np.abs(p.getJointInfo(engine.ID[1], 1)[8:10])),ang_std))\n",
    "targetVelAng = 1\n",
    "\n",
    "# current control mode\n",
    "mode = p.VELOCITY_CONTROL\n",
    "\n",
    "# init target Pos and Vel    \n",
    "targetPos= targetPosMean+targetPosStd\n",
    "targetAng= targetAngMean+targetAngStd\n",
    "\n",
    "# how many iterations we want to run\n",
    "Niter = 5\n",
    "\n",
    "# accuracy threshold\n",
    "threshold = 5e-2\n",
    "\n",
    "# control outer loop\n",
    "for i in range(Niter):        \n",
    "    \n",
    "    # error init - Pos/Ang    \n",
    "    ePos = engine.compute_joint_error(0,targetPos)        \n",
    "    eAng = engine.compute_joint_error(1,targetAng)\n",
    "    \n",
    "    # init stop flags\n",
    "    reach_pos = 0\n",
    "    reach_ang = 0\n",
    "    \n",
    "    # control inner loop\n",
    "    while reach_pos==0 or reach_ang==0:\n",
    "        \n",
    "        # control - Pos\n",
    "        if np.abs(ePos) > threshold and reach_pos == 0:\n",
    "            targetVelPosCtrl = targetVelPos*np.sign(ePos)\n",
    "            engine.control_joint(0, targetVelPosCtrl, mode, maxForce)\n",
    "        else:\n",
    "            engine.control_joint(0, 0, mode, maxForce)\n",
    "            reach_pos = 1\n",
    "        \n",
    "        # control - Ang\n",
    "        if np.abs(eAng) > threshold and reach_ang == 0:\n",
    "            targetVelAngCtrl = targetVelAng*np.sign(eAng)\n",
    "            engine.control_joint(1, targetVelAngCtrl, mode, maxForce)\n",
    "        else:\n",
    "            engine.control_joint(1, 0, mode, maxForce)\n",
    "            reach_ang = 1\n",
    "        \n",
    "        # simulate\n",
    "        engine.simulate(0.1)\n",
    "        \n",
    "        # error update - Pos/Ang    \n",
    "        ePos = engine.compute_joint_error(0,targetPos)        \n",
    "        eAng = engine.compute_joint_error(1,targetAng)\n",
    "        \n",
    "    # redefine targets\n",
    "    targetPos= targetPosMean + (targetPosMean-targetPos)\n",
    "    targetAng= targetAngMean + (targetAngMean-targetAng)"
   ]
  },
  {
   "cell_type": "code",
   "execution_count": 6,
   "metadata": {},
   "outputs": [
    {
     "name": "stdout",
     "output_type": "stream",
     "text": [
      "numActiveThreads = 0\n",
      "stopping threads\n",
      "Thread with taskId 0 exiting\n",
      "Thread TERMINATED\n",
      "destroy semaphore\n",
      "semaphore destroyed\n",
      "destroy main semaphore\n",
      "main semaphore destroyed\n",
      "finished\n",
      "numActiveThreads = 0\n",
      "btShutDownExampleBrowser stopping threads\n",
      "Thread with taskId 0 exiting\n",
      "Thread TERMINATED\n",
      "destroy semaphore\n",
      "semaphore destroyed\n",
      "destroy main semaphore\n",
      "main semaphore destroyed\n"
     ]
    }
   ],
   "source": [
    "# disconnect engine\n",
    "engine.close_environment()"
   ]
  }
 ],
 "metadata": {
  "kernelspec": {
   "display_name": "Python 3",
   "language": "python",
   "name": "python3"
  },
  "language_info": {
   "codemirror_mode": {
    "name": "ipython",
    "version": 3
   },
   "file_extension": ".py",
   "mimetype": "text/x-python",
   "name": "python",
   "nbconvert_exporter": "python",
   "pygments_lexer": "ipython3",
   "version": "3.8.10"
  }
 },
 "nbformat": 4,
 "nbformat_minor": 2
}
