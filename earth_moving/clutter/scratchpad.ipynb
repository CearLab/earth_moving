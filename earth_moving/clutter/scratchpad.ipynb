{
 "cells": [
  {
   "cell_type": "code",
   "metadata": {
    "ExecuteTime": {
     "end_time": "2024-08-09T15:44:10.851235Z",
     "start_time": "2024-08-09T15:44:10.686405Z"
    }
   },
   "source": [
    "# if you need to install Pybullet:\n",
    "#   pip3 install Pybullet   (python3)\n",
    "#   pip install PyBullet    (python2.x)\n",
    "\n",
    "# let's start with imports\n",
    "import numpy as np\n",
    "from numpy.random import seed\n",
    "from numpy.random import rand\n",
    "\n",
    "from engine import *\n",
    "\n",
    "# seed random number generator\n",
    "seed(1)"
   ],
   "outputs": [],
   "execution_count": 1
  },
  {
   "cell_type": "code",
   "metadata": {
    "ExecuteTime": {
     "end_time": "2024-08-09T15:44:13.087806Z",
     "start_time": "2024-08-09T15:44:13.072186Z"
    }
   },
   "source": [
    "# create a pybullet engine from the engine module\n",
    "engine = PyBulletEnvironment()\n"
   ],
   "outputs": [],
   "execution_count": 2
  },
  {
   "cell_type": "code",
   "metadata": {
    "ExecuteTime": {
     "end_time": "2024-08-09T15:44:17.546278Z",
     "start_time": "2024-08-09T15:44:16.688849Z"
    }
   },
   "source": [
    "#load shovel\n",
    "startPos = [0,0,0]\n",
    "startOrientation = p.getQuaternionFromEuler([0,0,0])\n",
    "robot_urdf = './urdf/shovel/shovelFlat.urdf'\n",
    "\n",
    "# load the robot\n",
    "engine.open_environment(robot_urdf, startPos, startOrientation)"
   ],
   "outputs": [],
   "execution_count": 3
  },
  {
   "cell_type": "code",
   "metadata": {
    "ExecuteTime": {
     "end_time": "2024-08-09T15:44:24.666378Z",
     "start_time": "2024-08-09T15:44:20.289540Z"
    }
   },
   "source": [
    "# load pebbles\n",
    "\n",
    "# get shovel_link position\n",
    "shovelLinkState = p.getLinkState(engine.ID[1], 2)\n",
    "\n",
    "# admissible init positions\n",
    "minpos = np.asarray(shovelLinkState[0]) - 5*1e-1\n",
    "maxpos = np.asarray(shovelLinkState[0]) + 5*1e-1\n",
    "\n",
    "# number of pebbles\n",
    "pebbleNum = 100\n",
    "\n",
    "# store pebbles IDs\n",
    "pebbleId = np.zeros(pebbleNum)\n",
    "\n",
    "# scatter pebbles\n",
    "for i in range (pebbleNum):\n",
    "    \n",
    "    # generate init pos\n",
    "    startPos = minpos + (rand(3) * (maxpos - minpos))\n",
    "    startPos[-1] = 0.2\n",
    "    \n",
    "    # set orientation\n",
    "    startOrientation = p.getQuaternionFromEuler([0,0,0])\n",
    "    \n",
    "    # load pebble \n",
    "    engine.load_urdf('./urdf/pebbles/pebbles.urdf', startPos, startOrientation)    \n",
    "    \n",
    "# simulate\n",
    "engine.simulate(0.5)"
   ],
   "outputs": [],
   "execution_count": 4
  },
  {
   "cell_type": "code",
   "metadata": {
    "ExecuteTime": {
     "end_time": "2024-08-09T15:44:34.876643Z",
     "start_time": "2024-08-09T15:44:32.866908Z"
    }
   },
   "source": [
    "# here we control the shovel to move to a target position and orientation using velocity control\n",
    "# the loop controls the velocity of the joint until the target position is reached\n",
    "\n",
    "# in the next params we define the control mode, the max force on the joint, the target position and velocity\n",
    "\n",
    "# get the current end effector position\n",
    "endEffectorPos = p.getLinkState(engine.ID[1], 2)[0]\n",
    "pathLength = 1\n",
    "pathCurvature = 5\n",
    "Nwaypoints = 10\n",
    "\n",
    "# compute the waypoints and print them\n",
    "waypoints = engine.get_waypoints(endEffectorPos, pathLength, pathCurvature, Nwaypoints)\n",
    "engine.draw_path(waypoints)\n",
    "print('Initial position: ' + str(endEffectorPos))\n",
    "print('Waypoints:\\n' + '\\n'.join(str(waypoint) for waypoint in waypoints))\n"
   ],
   "outputs": [
    {
     "name": "stdout",
     "output_type": "stream",
     "text": [
      "Initial position: (0.7000007617261489, -1.554231734758993e-08, 0.025)\n",
      "Waypoints:\n",
      "[0.7000007617261492, -1.5542317655103943e-08, 0.025]\n",
      "[0.8111027281156419, 0.0012345015544896754, 0.025]\n",
      "[0.9221498315943369, 0.004937443231927574, 0.025]\n",
      "[1.033087236343114, 0.011106980952070522, 0.025]\n",
      "[1.1438601607128391, 0.019740068155003065, 0.025]\n",
      "[1.2544139042759144, 0.03083244176322264, 0.025]\n",
      "[1.3646938748377195, 0.04437862428678585, 0.025]\n",
      "[1.474645615394618, 0.06037192652812262, 0.025]\n",
      "[1.5842148310251947, 0.0788044508852126, 0.025]\n",
      "[1.6933474157014552, 0.09966709525147444, 0.025]\n"
     ]
    }
   ],
   "execution_count": 5
  },
  {
   "cell_type": "code",
   "metadata": {
    "ExecuteTime": {
     "end_time": "2024-08-09T15:45:59.941931Z",
     "start_time": "2024-08-09T15:44:51.750185Z"
    }
   },
   "source": [
    "# control mode    \n",
    "mode = p.VELOCITY_CONTROL\n",
    "# mode = p.POSITION_CONTROL  \n",
    "\n",
    "# set params\n",
    "engine.control_threshold = 1e-2\n",
    "engine.Target_velocities = [1e-3, 1e-2, 1e-2]  \n",
    "engine.maxForce = [1e3, 1e3, 1e3]\n",
    "engine.Pos_gains = [1e-1, 1e-1, 1e-1]\n",
    "engine.Vel_gains = [1e-1, 1e-1, 1e-1]\n",
    "\n",
    "engine.control_waypoints(waypoints, control_mode=mode)"
   ],
   "outputs": [
    {
     "name": "stdout",
     "output_type": "stream",
     "text": [
      "End Effector position: (0.7000009814138433, -3.093453793110578e-08, 0.025)\n",
      "End Effector position: (0.8200009841062295, -3.1304953661038895e-08, 0.025)\n",
      "End Effector position: (0.9299227402486326, 0.004002692684049878, 0.025)\n",
      "End Effector position: (1.03939534877867, 0.010988285660645303, 0.025)\n",
      "End Effector position: (1.148158050787488, 0.01894030016592008, 0.025)\n",
      "End Effector position: (1.2552235756514916, 0.030437900638009503, 0.025)\n",
      "End Effector position: (1.3696385943143423, 0.044276830912302736, 0.025)\n",
      "End Effector position: (1.4802250230921277, 0.05957506845952727, 0.025)\n",
      "End Effector position: (1.5919453931178142, 0.07817771320815484, 0.025)\n",
      "End Effector position: (1.7010656902973849, 0.09762105879076903, 0.025)\n"
     ]
    }
   ],
   "execution_count": 6
  },
  {
   "metadata": {},
   "cell_type": "code",
   "outputs": [],
   "execution_count": null,
   "source": ""
  }
 ],
 "metadata": {
  "kernelspec": {
   "display_name": "Python 3",
   "language": "python",
   "name": "python3"
  },
  "language_info": {
   "codemirror_mode": {
    "name": "ipython",
    "version": 3
   },
   "file_extension": ".py",
   "mimetype": "text/x-python",
   "name": "python",
   "nbconvert_exporter": "python",
   "pygments_lexer": "ipython3",
   "version": "3.8.10"
  }
 },
 "nbformat": 4,
 "nbformat_minor": 2
}
