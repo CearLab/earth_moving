{
 "cells": [
  {
   "cell_type": "code",
   "execution_count": 1,
   "metadata": {},
   "outputs": [
    {
     "name": "stderr",
     "output_type": "stream",
     "text": [
      "pybullet build time: May 20 2024 15:34:46\n"
     ]
    }
   ],
   "source": [
    "# if you need to install Pybullet:\n",
    "#   pip3 install Pybullet   (python3)\n",
    "#   pip install PyBullet    (python2.x)\n",
    "\n",
    "# let's start with imports\n",
    "import numpy as np\n",
    "from numpy.random import seed\n",
    "from numpy.random import rand\n",
    "import pybullet as p\n",
    "\n",
    "from engine import *\n",
    "\n",
    "# seed random number generator\n",
    "seed(1)"
   ]
  },
  {
   "cell_type": "code",
   "execution_count": 2,
   "metadata": {},
   "outputs": [],
   "source": [
    "# create a pybullet engine from the engine module\n",
    "engine = PyBulletEnvironment()\n"
   ]
  },
  {
   "cell_type": "code",
   "execution_count": 3,
   "metadata": {},
   "outputs": [
    {
     "name": "stdout",
     "output_type": "stream",
     "text": [
      "startThreads creating 1 threads.\n",
      "starting thread 0\n",
      "started thread 0 \n",
      "argc=2\n",
      "argv[0] = --unused\n",
      "argv[1] = --start_demo_name=Physics Server\n",
      "ExampleBrowserThreadFunc started\n",
      "X11 functions dynamically loaded using dlopen/dlsym OK!\n",
      "X11 functions dynamically loaded using dlopen/dlsym OK!\n",
      "Creating context\n",
      "Created GL 3.3 context\n",
      "Direct GLX rendering context obtained\n",
      "Making context current\n",
      "GL_VENDOR=Intel\n",
      "GL_RENDERER=Mesa Intel(R) Graphics (RPL-P)\n",
      "GL_VERSION=4.6 (Core Profile) Mesa 24.0.9-0ubuntu0.2\n",
      "GL_SHADING_LANGUAGE_VERSION=4.60\n",
      "pthread_getconcurrency()=0\n",
      "Version = 4.6 (Core Profile) Mesa 24.0.9-0ubuntu0.2\n",
      "Vendor = Intel\n",
      "Renderer = Mesa Intel(R) Graphics (RPL-P)\n",
      "b3Printf: Selected demo: Physics Server\n",
      "startThreads creating 1 threads.\n",
      "starting thread 0\n",
      "started thread 0 \n",
      "MotionThreadFunc thread started\n",
      "ven = Intel\n",
      "Workaround for some crash in the Intel OpenGL driver on Linux/Ubuntu\n",
      "ven = Intel\n",
      "Workaround for some crash in the Intel OpenGL driver on Linux/Ubuntu\n"
     ]
    }
   ],
   "source": [
    "#load shovel\n",
    "startPos = [0,0,0]\n",
    "startOrientation = p.getQuaternionFromEuler([0,0,0])\n",
    "robot_urdf = './urdf/shovel/shovelFlat.urdf'\n",
    "\n",
    "# load the robot\n",
    "engine.open_environment(robot_urdf, startPos, startOrientation)"
   ]
  },
  {
   "cell_type": "code",
   "execution_count": 4,
   "metadata": {},
   "outputs": [],
   "source": [
    "# load pebbles\n",
    "\n",
    "# get shovel_link position\n",
    "shovelLinkState = p.getLinkState(engine.ID[1], 2)\n",
    "\n",
    "# admissible init positions\n",
    "minpos = np.asarray(shovelLinkState[0]) - 5*1e-1\n",
    "maxpos = np.asarray(shovelLinkState[0]) + 5*1e-1\n",
    "\n",
    "# number of pebbles\n",
    "pebbleNum = 0\n",
    "\n",
    "# scatter pebbles\n",
    "for i in range (pebbleNum):\n",
    "    \n",
    "    # generate init pos\n",
    "    startPos = minpos + (rand(3) * (maxpos - minpos))\n",
    "    startPos[-1] = 0.2\n",
    "    \n",
    "    # set orientation\n",
    "    startOrientation = p.getQuaternionFromEuler([0,0,0])\n",
    "    \n",
    "    # load pebble \n",
    "    engine.load_urdf('./urdf/pebbles/pebbles.urdf', startPos, startOrientation)    \n",
    "    \n",
    "# simulate\n",
    "engine.simulate(0.5)"
   ]
  },
  {
   "cell_type": "code",
   "execution_count": 5,
   "metadata": {},
   "outputs": [
    {
     "name": "stdout",
     "output_type": "stream",
     "text": [
      "Initial position: (0.7, 0.0, 0.025)\n",
      "Waypoints:\n",
      "[0.7, 0.0, 0.025]\n",
      "[0.7263095911936983, 0.0004945994409903953, 0.025]\n",
      "[0.752582003218548, 0.001977698825084362, 0.025]\n",
      "[0.7787801094451171, 0.004447202323349608, 0.025]\n",
      "[0.8048668882485644, 0.007899620178501099, 0.025]\n",
      "[0.8308054753254228, 0.012330073636421024, 0.025]\n",
      "[0.8565592157880684, 0.017732301840527542, 0.025]\n",
      "[0.8820917159632551, 0.024098670679249756, 0.025]\n",
      "[0.9073668948215148, 0.031420183574105476, 0.025]\n",
      "[0.9323490349647499, 0.03968649419313752, 0.025]\n",
      "[0.9570028330999614, 0.04888592107174239, 0.025]\n",
      "[0.9812934499277894, 0.05900546412022967, 0.025]\n",
      "[1.0051865593753646, 0.07003082299478569, 0.025]\n",
      "[1.0286483971038973, 0.08194641730587882, 0.025]\n",
      "[1.0516458082224587, 0.09473540863555074, 0.025]\n",
      "[1.0741462941405246, 0.10837972433248022, 0.025]\n",
      "[1.0961180584930748, 0.122860083051192, 0.025]\n",
      "[1.117530052073348, 0.1381560219993211, 0.025]\n",
      "[1.1383520167097578, 0.1542459258544301, 0.025]\n",
      "[1.158554528024963, 0.17110705730951237, 0.025]\n"
     ]
    }
   ],
   "source": [
    "# here we control the shovel to move to a target position and orientation using velocity control\n",
    "# the loop controls the velocity of the joint until the target position is reached\n",
    "\n",
    "# in the next params we define the control mode, the max force on the joint, the target position and velocity\n",
    "\n",
    "# get the current end effector position\n",
    "endEffectorPos = p.getLinkState(engine.ID[1], 2)[0]\n",
    "pathLength = 0.5\n",
    "pathCurvature = 0.7\n",
    "Nwaypoints = 20\n",
    "\n",
    "# compute the waypoints and print them\n",
    "waypoints = engine.get_waypoints(endEffectorPos, pathLength, pathCurvature, Nwaypoints)\n",
    "engine.draw_path(waypoints)\n",
    "print('Initial position: ' + str(endEffectorPos))\n",
    "print('Waypoints:\\n' + '\\n'.join(str(waypoint) for waypoint in waypoints))\n"
   ]
  },
  {
   "cell_type": "code",
   "execution_count": null,
   "metadata": {},
   "outputs": [
    {
     "name": "stdout",
     "output_type": "stream",
     "text": [
      "End Effector position: (0.7, 0.0, 0.025)\n",
      "End Effector position: (0.7025827719561716, 0.0001282703805304333, 0.025)\n",
      "End Effector position: (0.7128658795885493, 0.0008479194055388624, 0.025)\n",
      "End Effector position: (0.7345046742647914, 0.002309795333086324, 0.025)\n",
      "End Effector position: (0.7684759311735007, 0.00454289518931579, 0.025)\n",
      "End Effector position: (0.8131452162244152, 0.007674867154942621, 0.025)\n",
      "End Effector position: (0.8646750779781669, 0.011722587749932144, 0.025)\n",
      "End Effector position: (0.9184334957072942, 0.01808720360821158, 0.025)\n",
      "End Effector position: (0.9702659218565073, 0.026650199112430308, 0.025)\n",
      "End Effector position: (1.0156897138285927, 0.03525823085850596, 0.025)\n",
      "End Effector position: (1.0504887820469775, 0.04431937811136389, 0.025)\n",
      "End Effector position: (1.0741413883681197, 0.055454116893102395, 0.025)\n",
      "End Effector position: (1.0892562441426865, 0.0667148703152716, 0.025)\n",
      "End Effector position: (1.0989444021882087, 0.07897116208015925, 0.025)\n",
      "End Effector position: (1.108475582318746, 0.09151478595365273, 0.025)\n",
      "End Effector position: (1.1232913312354151, 0.1057049373058343, 0.025)\n",
      "End Effector position: (1.1503765798898973, 0.12076337801362436, 0.025)\n",
      "End Effector position: (1.1925165746154, 0.13592332750663486, 0.025)\n",
      "End Effector position: (1.250902135594485, 0.1523861840898655, 0.025)\n",
      "End Effector position: (1.3285128489302178, 0.16937384323301907, 0.025)\n"
     ]
    },
    {
     "ename": "",
     "evalue": "",
     "output_type": "error",
     "traceback": [
      "\u001b[1;31mThe Kernel crashed while executing code in the current cell or a previous cell. \n",
      "\u001b[1;31mPlease review the code in the cell(s) to identify a possible cause of the failure. \n",
      "\u001b[1;31mClick <a href='https://aka.ms/vscodeJupyterKernelCrash'>here</a> for more info. \n",
      "\u001b[1;31mView Jupyter <a href='command:jupyter.viewOutput'>log</a> for further details."
     ]
    }
   ],
   "source": [
    "# control mode    \n",
    "engine.control_waypoints(waypoints)"
   ]
  }
 ],
 "metadata": {
  "kernelspec": {
   "display_name": "earthmov",
   "language": "python",
   "name": "python3"
  },
  "language_info": {
   "codemirror_mode": {
    "name": "ipython",
    "version": 3
   },
   "file_extension": ".py",
   "mimetype": "text/x-python",
   "name": "python",
   "nbconvert_exporter": "python",
   "pygments_lexer": "ipython3",
   "version": "3.12.3"
  }
 },
 "nbformat": 4,
 "nbformat_minor": 2
}
