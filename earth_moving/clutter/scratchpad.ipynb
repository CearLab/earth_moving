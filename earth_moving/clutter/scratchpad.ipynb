{
 "cells": [
  {
   "cell_type": "code",
   "execution_count": null,
   "metadata": {},
   "outputs": [],
   "source": [
    "# if you need to install Pybullet:\n",
    "#   pip3 install Pybullet   (python3)\n",
    "#   pip install PyBullet    (python2.x)\n",
    "\n",
    "# let's start with imports\n",
    "import numpy as np\n",
    "from numpy.random import seed\n",
    "from numpy.random import rand\n",
    "import pybullet as p\n",
    "\n",
    "from engine import *\n",
    "\n",
    "# seed random number generator\n",
    "seed(1)"
   ]
  },
  {
   "cell_type": "code",
   "execution_count": null,
   "metadata": {},
   "outputs": [],
   "source": [
    "# create a pybullet engine from the engine module\n",
    "engine = PyBulletEnvironment()\n"
   ]
  },
  {
   "cell_type": "code",
   "execution_count": null,
   "metadata": {},
   "outputs": [],
   "source": [
    "#load shovel\n",
    "startPos = [0,0,0]\n",
    "startOrientation = p.getQuaternionFromEuler([0,0,0])\n",
    "robot_urdf = './urdf/shovel/shovelFlat.urdf'\n",
    "\n",
    "# load the robot\n",
    "engine.open_environment(robot_urdf, startPos, startOrientation)"
   ]
  },
  {
   "cell_type": "code",
   "execution_count": null,
   "metadata": {},
   "outputs": [],
   "source": [
    "# load pebbles\n",
    "\n",
    "# get shovel_link position\n",
    "shovelLinkState = p.getLinkState(engine.ID[1], 2)\n",
    "\n",
    "# admissible init positions\n",
    "minpos = np.asarray(shovelLinkState[0]) - 5*1e-1\n",
    "maxpos = np.asarray(shovelLinkState[0]) + 5*1e-1\n",
    "\n",
    "# number of pebbles\n",
    "pebbleNum = 500\n",
    "\n",
    "# scatter pebbles\n",
    "for i in range (pebbleNum):\n",
    "    \n",
    "    # generate init pos\n",
    "    startPos = minpos + (rand(3) * (maxpos - minpos))\n",
    "    startPos[-1] = 0.2\n",
    "    \n",
    "    # set orientation\n",
    "    startOrientation = p.getQuaternionFromEuler([0,0,0])\n",
    "    \n",
    "    # load pebble \n",
    "    engine.load_urdf('./urdf/pebbles/pebbles.urdf', startPos, startOrientation)    \n",
    "    \n",
    "# simulate\n",
    "engine.simulate(0.5)"
   ]
  },
  {
   "cell_type": "code",
   "execution_count": null,
   "metadata": {},
   "outputs": [],
   "source": [
    "# here we control the shovel to move to a target position and orientation using velocity control\n",
    "# the loop controls the velocity of the joint until the target position is reached\n",
    "\n",
    "# in the next params we define the control mode, the max force on the joint, the target position and velocity\n",
    "\n",
    "# get the current end effector position\n",
    "endEffectorPos = p.getLinkState(engine.ID[1], 2)[0]\n",
    "pathLength = 0.5\n",
    "pathCurvature = 5\n",
    "Nwaypoints = 15\n",
    "\n",
    "# compute the waypoints and print them\n",
    "waypoints = engine.get_waypoints(endEffectorPos, pathLength, pathCurvature, Nwaypoints)\n",
    "engine.draw_path(waypoints)\n",
    "print('Initial position: ' + str(endEffectorPos))\n",
    "print('Waypoints:\\n' + '\\n'.join(str(waypoint) for waypoint in waypoints))\n"
   ]
  },
  {
   "cell_type": "code",
   "execution_count": null,
   "metadata": {},
   "outputs": [],
   "source": [
    "# control mode    \n",
    "engine.control_waypoints(waypoints)"
   ]
  }
 ],
 "metadata": {
  "kernelspec": {
   "display_name": "earthmov",
   "language": "python",
   "name": "python3"
  },
  "language_info": {
   "codemirror_mode": {
    "name": "ipython",
    "version": 3
   },
   "file_extension": ".py",
   "mimetype": "text/x-python",
   "name": "python",
   "nbconvert_exporter": "python",
   "pygments_lexer": "ipython3",
   "version": "3.12.3"
  }
 },
 "nbformat": 4,
 "nbformat_minor": 2
}
