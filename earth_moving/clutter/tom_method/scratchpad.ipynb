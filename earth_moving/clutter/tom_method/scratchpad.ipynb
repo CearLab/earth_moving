{
   "cells": [
      {
         "cell_type": "code",
         "execution_count": 1,
         "metadata": {},
         "outputs": [
            {
               "name": "stderr",
               "output_type": "stream",
               "text": [
                  "pybullet build time: Nov 28 2023 23:51:11\n"
               ]
            }
         ],
         "source": [
            "# if you need to install Pybullet:\n",
            "#   pip3 install Pybullet   (python3)\n",
            "#   pip install PyBullet    (python2.x)\n",
            "\n",
            "# let's start with imports\n",
            "import numpy as np\n",
            "from numpy.random import seed\n",
            "from numpy.random import rand\n",
            "\n",
            "from engine import *\n",
            "\n",
            "# seed random number generator\n",
            "seed(1)"
         ]
      },
      {
         "cell_type": "code",
         "execution_count": 2,
         "metadata": {},
         "outputs": [],
         "source": [
            "# create a pybullet engine from the engine module\n",
            "engine = PyBulletEnvironment()\n"
         ]
      },
      {
         "cell_type": "code",
         "execution_count": 3,
         "metadata": {},
         "outputs": [
            {
               "name": "stderr",
               "output_type": "stream",
               "text": [
                  "MESA: warning: Driver does not support the 0xa7a0 PCI ID.\n",
                  "libGL error: failed to create dri screen\n",
                  "libGL error: failed to load driver: iris\n"
               ]
            },
            {
               "name": "stdout",
               "output_type": "stream",
               "text": [
                  "startThreads creating 1 threads.\n",
                  "starting thread 0\n",
                  "started thread 0 \n",
                  "argc=2\n",
                  "argv[0] = --unused\n",
                  "argv[1] = --start_demo_name=Physics Server\n",
                  "ExampleBrowserThreadFunc started\n",
                  "X11 functions dynamically loaded using dlopen/dlsym OK!\n",
                  "X11 functions dynamically loaded using dlopen/dlsym OK!\n",
                  "Creating context\n",
                  "Created GL 3.3 context\n",
                  "Direct GLX rendering context obtained\n",
                  "Making context current\n",
                  "GL_VENDOR=Mesa/X.org\n",
                  "GL_RENDERER=llvmpipe (LLVM 12.0.0, 256 bits)\n",
                  "GL_VERSION=4.5 (Core Profile) Mesa 21.2.6\n",
                  "GL_SHADING_LANGUAGE_VERSION=4.50\n",
                  "pthread_getconcurrency()=0\n",
                  "Version = 4.5 (Core Profile) Mesa 21.2.6\n",
                  "Vendor = Mesa/X.org\n",
                  "Renderer = llvmpipe (LLVM 12.0.0, 256 bits)\n",
                  "b3Printf: Selected demo: Physics Server\n",
                  "startThreads creating 1 threads.\n",
                  "starting thread 0\n",
                  "started thread 0 \n",
                  "MotionThreadFunc thread started\n",
                  "ven = Mesa/X.org\n",
                  "ven = Mesa/X.org\n"
               ]
            },
            {
               "name": "stderr",
               "output_type": "stream",
               "text": [
                  "MESA: warning: Driver does not support the 0xa7a0 PCI ID.\n",
                  "libGL error: failed to create dri screen\n",
                  "libGL error: failed to load driver: iris\n"
               ]
            }
         ],
         "source": [
            "#load shovel\n",
            "startPos = [0,0,0]\n",
            "startOrientation = p.getQuaternionFromEuler([0,0,0])\n",
            "robot_urdf = './urdf/shovel/shovelFlat.urdf'\n",
            "\n",
            "# load the robot\n",
            "engine.open_environment(robot_urdf, startPos, startOrientation)"
         ]
      },
      {
         "cell_type": "code",
         "execution_count": 4,
         "metadata": {},
         "outputs": [],
         "source": [
            "# load pebbles\n",
            "\n",
            "# get shovel_link position\n",
            "shovelLinkState = p.getLinkState(engine.ID[1], 2)\n",
            "\n",
            "# admissible init positions\n",
            "minpos = np.asarray(shovelLinkState[0]) - 5*1e-1\n",
            "maxpos = np.asarray(shovelLinkState[0]) + 5*1e-1\n",
            "\n",
            "# number of pebbles\n",
            "pebbleNum = 100\n",
            "\n",
            "# store pebbles IDs\n",
            "pebbleId = np.zeros(pebbleNum)\n",
            "\n",
            "# scatter pebbles\n",
            "for i in range (pebbleNum):\n",
            "    \n",
            "    # generate init pos\n",
            "    startPos = minpos + (rand(3) * (maxpos - minpos))\n",
            "    startPos[-1] = 0.2\n",
            "    \n",
            "    # set orientation\n",
            "    startOrientation = p.getQuaternionFromEuler([0,0,0])\n",
            "    \n",
            "    # load pebble \n",
            "    engine.load_urdf('./urdf/pebbles/pebbles.urdf', startPos, startOrientation)    \n",
            "    \n",
            "# simulate\n",
            "engine.simulate(0.5)"
         ]
      },
      {
         "cell_type": "code",
         "metadata": {
            "ExecuteTime": {
               "end_time": "2024-08-09T15:44:34.876643Z",
               "start_time": "2024-08-09T15:44:32.866908Z"
            }
         },
         "source": [
            "# here we control the shovel to move to a target position and orientation using velocity control\n",
            "# the loop controls the velocity of the joint until the target position is reached\n",
            "\n",
            "# in the next params we define the control mode, the max force on the joint, the target position and velocity\n",
            "\n",
            "# get the current end effector position\n",
            "endEffectorPos = p.getLinkState(engine.ID[1], 2)[0]\n",
            "pathLength = 1\n",
            "pathCurvature = 5\n",
            "Nwaypoints = 10\n",
            "\n",
            "# compute the waypoints and print them\n",
            "waypoints = engine.get_waypoints(endEffectorPos, pathLength, pathCurvature, Nwaypoints)\n",
            "engine.draw_path(waypoints)\n",
            "print('Initial position: ' + str(endEffectorPos))\n",
            "print('Waypoints:\\n' + '\\n'.join(str(waypoint) for waypoint in waypoints))\n"
         ]
      },
      {
         "cell_type": "code",
         "execution_count": 6,
         "metadata": {},
         "outputs": [
            {
               "name": "stdout",
               "output_type": "stream",
               "text": [
                  "End Effector position: (0.7000009814138433, -3.093453793110877e-08, 0.025)\n",
                  "End Effector position: (0.8200009841062295, -3.1304953661041985e-08, 0.025)\n",
                  "End Effector position: (0.9299227402486326, 0.004002692684049944, 0.025)\n",
                  "End Effector position: (1.0393954012288131, 0.010988438349544927, 0.025)\n",
                  "End Effector position: (1.1481452412934972, 0.018942953138801316, 0.025)\n",
                  "End Effector position: (1.2552102252703294, 0.030440045800213672, 0.025)\n",
                  "End Effector position: (1.3696250416257996, 0.04427876804050194, 0.025)\n",
                  "End Effector position: (1.480210996089321, 0.05957717723848287, 0.025)\n",
                  "End Effector position: (1.5919055278431342, 0.0782036397273044, 0.025)\n",
                  "End Effector position: (1.701022695648574, 0.09762942101403849, 0.025)\n"
               ]
            }
         ],
         "source": [
            "# control mode    \n",
            "mode = p.VELOCITY_CONTROL\n",
            "# mode = p.POSITION_CONTROL  \n",
            "\n",
            "# set params\n",
            "engine.control_threshold = 1e-2\n",
            "engine.Target_velocities = [1e-3, 1e-2, 1e-2]  \n",
            "engine.maxForce = [1e3, 1e3, 1e3]\n",
            "engine.Pos_gains = [1e-1, 1e-1, 1e-1]\n",
            "engine.Vel_gains = [1e-1, 1e-1, 1e-1]\n",
            "\n",
            "engine.control_waypoints(waypoints, control_mode=mode)"
         ]
      }
   ],
   "metadata": {
      "kernelspec": {
         "display_name": "Python 3",
         "language": "python",
         "name": "python3"
      },
      "language_info": {
         "codemirror_mode": {
            "name": "ipython",
            "version": 3
         },
         "file_extension": ".py",
         "mimetype": "text/x-python",
         "name": "python",
         "nbconvert_exporter": "python",
         "pygments_lexer": "ipython3",
         "version": "3.8.10"
      }
   },
   "nbformat": 4,
   "nbformat_minor": 2
}